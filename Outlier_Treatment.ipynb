{
  "nbformat": 4,
  "nbformat_minor": 0,
  "metadata": {
    "colab": {
      "provenance": [],
      "collapsed_sections": [
        "r9XoTd3jc_HL",
        "PMQ--RYmdzPf",
        "1480ZRDAgZZS"
      ],
      "mount_file_id": "1MvRIHJBe3gtbS3yGFFxwXab7kjV8n2-t",
      "authorship_tag": "ABX9TyPvcxQV7EZ63WQH4aD+solX",
      "include_colab_link": true
    },
    "kernelspec": {
      "name": "python3",
      "display_name": "Python 3"
    },
    "language_info": {
      "name": "python"
    }
  },
  "cells": [
    {
      "cell_type": "markdown",
      "metadata": {
        "id": "view-in-github",
        "colab_type": "text"
      },
      "source": [
        "<a href=\"https://colab.research.google.com/github/scholarmaverick1991/Consumer-Cost-Optimisation-southafrica/blob/main/Outlier_Treatment.ipynb\" target=\"_parent\"><img src=\"https://colab.research.google.com/assets/colab-badge.svg\" alt=\"Open In Colab\"/></a>"
      ]
    },
    {
      "cell_type": "markdown",
      "source": [
        "#**Introduction**"
      ],
      "metadata": {
        "id": "KnNsb2AMjJ9d"
      }
    },
    {
      "cell_type": "markdown",
      "source": [
        "Outliers are data points that significantly differ from the rest of the observations in a dataset. They are values that are unusually high or low compared to the majority of the data points, and they can have a substantial impact on statistical analyses and machine learning models. Outliers may arise due to errors in data collection, measurement issues, or genuine anomalies in the underlying process being studied."
      ],
      "metadata": {
        "id": "On6h6wnDeigU"
      }
    },
    {
      "cell_type": "markdown",
      "source": [
        "In data analysis, identifying outliers is crucial because they can skew statistical measures and produce inaccurate results. Visual analysis of data displays (such as box or scatter plots), statistical testing, and mathematical models are common techniques for identifying outliers.\n",
        "\n",
        "The context and reason behind the outliers' existence determine how to handle them. Occasionally, anomalies"
      ],
      "metadata": {
        "id": "DXPxivswzLHP"
      }
    },
    {
      "cell_type": "markdown",
      "source": [
        "# **Application:**"
      ],
      "metadata": {
        "id": "0svNO5PSZNB4"
      }
    },
    {
      "cell_type": "code",
      "execution_count": null,
      "metadata": {
        "id": "na4doelrFD1T",
        "colab": {
          "base_uri": "https://localhost:8080/"
        },
        "outputId": "11f04808-631f-4686-d9f0-825e8448e1eb",
        "cellView": "form"
      },
      "outputs": [
        {
          "output_type": "stream",
          "name": "stdout",
          "text": [
            "all set,you may begin analysis\n"
          ]
        }
      ],
      "source": [
        "# @title\n",
        "\n",
        "#Statistics\n",
        "import pandas as pd\n",
        "#Visualisation\n",
        "import seaborn as sns\n",
        "# Annotation of Visuals\n",
        "import matplotlib.pyplot as plt\n",
        "#Visuals\n",
        "sns.set_theme(rc = {'figure.dpi': 220, 'figure.figsize': (3.5, 3.5)},\n",
        "              font_scale = 0.85, style = 'whitegrid')\n",
        "print('all set,you may begin analysis')"
      ]
    },
    {
      "cell_type": "markdown",
      "source": [
        "in our dataset we have choosen a car data set for the purposes of the presentation we will look at ware tare feature of car sale **mileage per year**"
      ],
      "metadata": {
        "id": "PBeuLze6VjKg"
      }
    },
    {
      "cell_type": "markdown",
      "source": [
        "The mileage per year of a car serves as a key indicator of its usage and overall condition. It provides valuable information about how extensively the vehicle has been driven over time and can impact various aspects of the car's performance, reliability, and value."
      ],
      "metadata": {
        "id": "FZsvpYNLcEUL"
      }
    },
    {
      "cell_type": "markdown",
      "source": [
        "**An aggregated dataset was created using data mined on e-commerce site from 2020 to 2023**"
      ],
      "metadata": {
        "id": "IOAYYg55ceDQ"
      }
    },
    {
      "cell_type": "code",
      "source": [
        "df = pd.read_csv(\"/content/drive/MyDrive/cars_dataset.csv\",\n",
        "                 usecols = ['Price','Year','Mileage','Year_Data_Collected','Car_Model','Make','Town'])\n",
        "# Feature Engineering\n",
        "df['Car_Age'] = (df['Year_Data_Collected'])-df['Year']\n",
        "df['Mileage/Year'] = df['Mileage']/(df['Car_Age']+1)\n",
        "df[df['Car_Age']>0].describe().T.round(0)"
      ],
      "metadata": {
        "colab": {
          "base_uri": "https://localhost:8080/",
          "height": 237
        },
        "id": "CQ6V6YgAZlvb",
        "outputId": "44a9a806-f693-4050-8038-ae767e3827bb"
      },
      "execution_count": null,
      "outputs": [
        {
          "output_type": "execute_result",
          "data": {
            "text/plain": [
              "                       count      mean       std     min       25%       50%  \\\n",
              "Price                27375.0  289465.0  363186.0     0.0  129900.0  169900.0   \n",
              "Year                 27380.0    2016.0       4.0  1959.0    2014.0    2017.0   \n",
              "Mileage              27347.0   78414.0   66666.0     0.0   27282.0   65000.0   \n",
              "Year_Data_Collected  27380.0    2022.0       1.0  2021.0    2021.0    2021.0   \n",
              "Car_Age              27380.0       5.0       4.0     1.0       2.0       4.0   \n",
              "Mileage/Year         27347.0   12166.0    7319.0     0.0    7667.0   11400.0   \n",
              "\n",
              "                          75%        max  \n",
              "Price                239899.0  1999999.0  \n",
              "Year                   2019.0     2022.0  \n",
              "Mileage              113000.0  2264003.0  \n",
              "Year_Data_Collected    2023.0     2023.0  \n",
              "Car_Age                   7.0       63.0  \n",
              "Mileage/Year          15500.0   226400.0  "
            ],
            "text/html": [
              "\n",
              "  <div id=\"df-84390c22-c3aa-4e51-b299-536170c094f8\" class=\"colab-df-container\">\n",
              "    <div>\n",
              "<style scoped>\n",
              "    .dataframe tbody tr th:only-of-type {\n",
              "        vertical-align: middle;\n",
              "    }\n",
              "\n",
              "    .dataframe tbody tr th {\n",
              "        vertical-align: top;\n",
              "    }\n",
              "\n",
              "    .dataframe thead th {\n",
              "        text-align: right;\n",
              "    }\n",
              "</style>\n",
              "<table border=\"1\" class=\"dataframe\">\n",
              "  <thead>\n",
              "    <tr style=\"text-align: right;\">\n",
              "      <th></th>\n",
              "      <th>count</th>\n",
              "      <th>mean</th>\n",
              "      <th>std</th>\n",
              "      <th>min</th>\n",
              "      <th>25%</th>\n",
              "      <th>50%</th>\n",
              "      <th>75%</th>\n",
              "      <th>max</th>\n",
              "    </tr>\n",
              "  </thead>\n",
              "  <tbody>\n",
              "    <tr>\n",
              "      <th>Price</th>\n",
              "      <td>27375.0</td>\n",
              "      <td>289465.0</td>\n",
              "      <td>363186.0</td>\n",
              "      <td>0.0</td>\n",
              "      <td>129900.0</td>\n",
              "      <td>169900.0</td>\n",
              "      <td>239899.0</td>\n",
              "      <td>1999999.0</td>\n",
              "    </tr>\n",
              "    <tr>\n",
              "      <th>Year</th>\n",
              "      <td>27380.0</td>\n",
              "      <td>2016.0</td>\n",
              "      <td>4.0</td>\n",
              "      <td>1959.0</td>\n",
              "      <td>2014.0</td>\n",
              "      <td>2017.0</td>\n",
              "      <td>2019.0</td>\n",
              "      <td>2022.0</td>\n",
              "    </tr>\n",
              "    <tr>\n",
              "      <th>Mileage</th>\n",
              "      <td>27347.0</td>\n",
              "      <td>78414.0</td>\n",
              "      <td>66666.0</td>\n",
              "      <td>0.0</td>\n",
              "      <td>27282.0</td>\n",
              "      <td>65000.0</td>\n",
              "      <td>113000.0</td>\n",
              "      <td>2264003.0</td>\n",
              "    </tr>\n",
              "    <tr>\n",
              "      <th>Year_Data_Collected</th>\n",
              "      <td>27380.0</td>\n",
              "      <td>2022.0</td>\n",
              "      <td>1.0</td>\n",
              "      <td>2021.0</td>\n",
              "      <td>2021.0</td>\n",
              "      <td>2021.0</td>\n",
              "      <td>2023.0</td>\n",
              "      <td>2023.0</td>\n",
              "    </tr>\n",
              "    <tr>\n",
              "      <th>Car_Age</th>\n",
              "      <td>27380.0</td>\n",
              "      <td>5.0</td>\n",
              "      <td>4.0</td>\n",
              "      <td>1.0</td>\n",
              "      <td>2.0</td>\n",
              "      <td>4.0</td>\n",
              "      <td>7.0</td>\n",
              "      <td>63.0</td>\n",
              "    </tr>\n",
              "    <tr>\n",
              "      <th>Mileage/Year</th>\n",
              "      <td>27347.0</td>\n",
              "      <td>12166.0</td>\n",
              "      <td>7319.0</td>\n",
              "      <td>0.0</td>\n",
              "      <td>7667.0</td>\n",
              "      <td>11400.0</td>\n",
              "      <td>15500.0</td>\n",
              "      <td>226400.0</td>\n",
              "    </tr>\n",
              "  </tbody>\n",
              "</table>\n",
              "</div>\n",
              "    <div class=\"colab-df-buttons\">\n",
              "\n",
              "  <div class=\"colab-df-container\">\n",
              "    <button class=\"colab-df-convert\" onclick=\"convertToInteractive('df-84390c22-c3aa-4e51-b299-536170c094f8')\"\n",
              "            title=\"Convert this dataframe to an interactive table.\"\n",
              "            style=\"display:none;\">\n",
              "\n",
              "  <svg xmlns=\"http://www.w3.org/2000/svg\" height=\"24px\" viewBox=\"0 -960 960 960\">\n",
              "    <path d=\"M120-120v-720h720v720H120Zm60-500h600v-160H180v160Zm220 220h160v-160H400v160Zm0 220h160v-160H400v160ZM180-400h160v-160H180v160Zm440 0h160v-160H620v160ZM180-180h160v-160H180v160Zm440 0h160v-160H620v160Z\"/>\n",
              "  </svg>\n",
              "    </button>\n",
              "\n",
              "  <style>\n",
              "    .colab-df-container {\n",
              "      display:flex;\n",
              "      gap: 12px;\n",
              "    }\n",
              "\n",
              "    .colab-df-convert {\n",
              "      background-color: #E8F0FE;\n",
              "      border: none;\n",
              "      border-radius: 50%;\n",
              "      cursor: pointer;\n",
              "      display: none;\n",
              "      fill: #1967D2;\n",
              "      height: 32px;\n",
              "      padding: 0 0 0 0;\n",
              "      width: 32px;\n",
              "    }\n",
              "\n",
              "    .colab-df-convert:hover {\n",
              "      background-color: #E2EBFA;\n",
              "      box-shadow: 0px 1px 2px rgba(60, 64, 67, 0.3), 0px 1px 3px 1px rgba(60, 64, 67, 0.15);\n",
              "      fill: #174EA6;\n",
              "    }\n",
              "\n",
              "    .colab-df-buttons div {\n",
              "      margin-bottom: 4px;\n",
              "    }\n",
              "\n",
              "    [theme=dark] .colab-df-convert {\n",
              "      background-color: #3B4455;\n",
              "      fill: #D2E3FC;\n",
              "    }\n",
              "\n",
              "    [theme=dark] .colab-df-convert:hover {\n",
              "      background-color: #434B5C;\n",
              "      box-shadow: 0px 1px 3px 1px rgba(0, 0, 0, 0.15);\n",
              "      filter: drop-shadow(0px 1px 2px rgba(0, 0, 0, 0.3));\n",
              "      fill: #FFFFFF;\n",
              "    }\n",
              "  </style>\n",
              "\n",
              "    <script>\n",
              "      const buttonEl =\n",
              "        document.querySelector('#df-84390c22-c3aa-4e51-b299-536170c094f8 button.colab-df-convert');\n",
              "      buttonEl.style.display =\n",
              "        google.colab.kernel.accessAllowed ? 'block' : 'none';\n",
              "\n",
              "      async function convertToInteractive(key) {\n",
              "        const element = document.querySelector('#df-84390c22-c3aa-4e51-b299-536170c094f8');\n",
              "        const dataTable =\n",
              "          await google.colab.kernel.invokeFunction('convertToInteractive',\n",
              "                                                    [key], {});\n",
              "        if (!dataTable) return;\n",
              "\n",
              "        const docLinkHtml = 'Like what you see? Visit the ' +\n",
              "          '<a target=\"_blank\" href=https://colab.research.google.com/notebooks/data_table.ipynb>data table notebook</a>'\n",
              "          + ' to learn more about interactive tables.';\n",
              "        element.innerHTML = '';\n",
              "        dataTable['output_type'] = 'display_data';\n",
              "        await google.colab.output.renderOutput(dataTable, element);\n",
              "        const docLink = document.createElement('div');\n",
              "        docLink.innerHTML = docLinkHtml;\n",
              "        element.appendChild(docLink);\n",
              "      }\n",
              "    </script>\n",
              "  </div>\n",
              "\n",
              "\n",
              "<div id=\"df-19e7d47d-333e-468d-b0e4-3f57d58c658a\">\n",
              "  <button class=\"colab-df-quickchart\" onclick=\"quickchart('df-19e7d47d-333e-468d-b0e4-3f57d58c658a')\"\n",
              "            title=\"Suggest charts\"\n",
              "            style=\"display:none;\">\n",
              "\n",
              "<svg xmlns=\"http://www.w3.org/2000/svg\" height=\"24px\"viewBox=\"0 0 24 24\"\n",
              "     width=\"24px\">\n",
              "    <g>\n",
              "        <path d=\"M19 3H5c-1.1 0-2 .9-2 2v14c0 1.1.9 2 2 2h14c1.1 0 2-.9 2-2V5c0-1.1-.9-2-2-2zM9 17H7v-7h2v7zm4 0h-2V7h2v10zm4 0h-2v-4h2v4z\"/>\n",
              "    </g>\n",
              "</svg>\n",
              "  </button>\n",
              "\n",
              "<style>\n",
              "  .colab-df-quickchart {\n",
              "      --bg-color: #E8F0FE;\n",
              "      --fill-color: #1967D2;\n",
              "      --hover-bg-color: #E2EBFA;\n",
              "      --hover-fill-color: #174EA6;\n",
              "      --disabled-fill-color: #AAA;\n",
              "      --disabled-bg-color: #DDD;\n",
              "  }\n",
              "\n",
              "  [theme=dark] .colab-df-quickchart {\n",
              "      --bg-color: #3B4455;\n",
              "      --fill-color: #D2E3FC;\n",
              "      --hover-bg-color: #434B5C;\n",
              "      --hover-fill-color: #FFFFFF;\n",
              "      --disabled-bg-color: #3B4455;\n",
              "      --disabled-fill-color: #666;\n",
              "  }\n",
              "\n",
              "  .colab-df-quickchart {\n",
              "    background-color: var(--bg-color);\n",
              "    border: none;\n",
              "    border-radius: 50%;\n",
              "    cursor: pointer;\n",
              "    display: none;\n",
              "    fill: var(--fill-color);\n",
              "    height: 32px;\n",
              "    padding: 0;\n",
              "    width: 32px;\n",
              "  }\n",
              "\n",
              "  .colab-df-quickchart:hover {\n",
              "    background-color: var(--hover-bg-color);\n",
              "    box-shadow: 0 1px 2px rgba(60, 64, 67, 0.3), 0 1px 3px 1px rgba(60, 64, 67, 0.15);\n",
              "    fill: var(--button-hover-fill-color);\n",
              "  }\n",
              "\n",
              "  .colab-df-quickchart-complete:disabled,\n",
              "  .colab-df-quickchart-complete:disabled:hover {\n",
              "    background-color: var(--disabled-bg-color);\n",
              "    fill: var(--disabled-fill-color);\n",
              "    box-shadow: none;\n",
              "  }\n",
              "\n",
              "  .colab-df-spinner {\n",
              "    border: 2px solid var(--fill-color);\n",
              "    border-color: transparent;\n",
              "    border-bottom-color: var(--fill-color);\n",
              "    animation:\n",
              "      spin 1s steps(1) infinite;\n",
              "  }\n",
              "\n",
              "  @keyframes spin {\n",
              "    0% {\n",
              "      border-color: transparent;\n",
              "      border-bottom-color: var(--fill-color);\n",
              "      border-left-color: var(--fill-color);\n",
              "    }\n",
              "    20% {\n",
              "      border-color: transparent;\n",
              "      border-left-color: var(--fill-color);\n",
              "      border-top-color: var(--fill-color);\n",
              "    }\n",
              "    30% {\n",
              "      border-color: transparent;\n",
              "      border-left-color: var(--fill-color);\n",
              "      border-top-color: var(--fill-color);\n",
              "      border-right-color: var(--fill-color);\n",
              "    }\n",
              "    40% {\n",
              "      border-color: transparent;\n",
              "      border-right-color: var(--fill-color);\n",
              "      border-top-color: var(--fill-color);\n",
              "    }\n",
              "    60% {\n",
              "      border-color: transparent;\n",
              "      border-right-color: var(--fill-color);\n",
              "    }\n",
              "    80% {\n",
              "      border-color: transparent;\n",
              "      border-right-color: var(--fill-color);\n",
              "      border-bottom-color: var(--fill-color);\n",
              "    }\n",
              "    90% {\n",
              "      border-color: transparent;\n",
              "      border-bottom-color: var(--fill-color);\n",
              "    }\n",
              "  }\n",
              "</style>\n",
              "\n",
              "  <script>\n",
              "    async function quickchart(key) {\n",
              "      const quickchartButtonEl =\n",
              "        document.querySelector('#' + key + ' button');\n",
              "      quickchartButtonEl.disabled = true;  // To prevent multiple clicks.\n",
              "      quickchartButtonEl.classList.add('colab-df-spinner');\n",
              "      try {\n",
              "        const charts = await google.colab.kernel.invokeFunction(\n",
              "            'suggestCharts', [key], {});\n",
              "      } catch (error) {\n",
              "        console.error('Error during call to suggestCharts:', error);\n",
              "      }\n",
              "      quickchartButtonEl.classList.remove('colab-df-spinner');\n",
              "      quickchartButtonEl.classList.add('colab-df-quickchart-complete');\n",
              "    }\n",
              "    (() => {\n",
              "      let quickchartButtonEl =\n",
              "        document.querySelector('#df-19e7d47d-333e-468d-b0e4-3f57d58c658a button');\n",
              "      quickchartButtonEl.style.display =\n",
              "        google.colab.kernel.accessAllowed ? 'block' : 'none';\n",
              "    })();\n",
              "  </script>\n",
              "</div>\n",
              "\n",
              "    </div>\n",
              "  </div>\n"
            ]
          },
          "metadata": {},
          "execution_count": 16
        }
      ]
    },
    {
      "cell_type": "markdown",
      "source": [
        "Data Preprocessing techniques are the backbone of the MachIne Learning!\n",
        "Hence sharing 5 easy ways to handle outliers in python.\n",
        "\n",
        "1. Z score - it tells you how many standard deviations is a data point away from the mean.\n",
        "\n",
        "2. Interquartile range (IQR) - it is the difference between 75th and 25th percentile in the data (when sorted). As a thumb rule values below and above 1.5*IQR are considered as outliers.\n",
        "\n",
        "3. Isolation Forest - Based on decision tree - it leverages the fact that anomalies are typically less frequent and have attribute values that are very different from those of normal instances. It works by randomly selecting a feature and then randomly selecting a split value between the minimum and maximum values of that feature to isolate anomalies into separate partitions.\n",
        "Contamination parameter suggests \"the approx proportion of outliers in the data\".\n",
        "\n",
        "4. Winsorizing - Rather than removing outliers from data we replace them with mean/values which are in the centre of distribution.\n",
        "\n",
        "5. Visualisation - Using packages like matplotlib and seaborn you can visualise and identify outliers from your data by plotting histrograms, scatter plots etc.\n"
      ],
      "metadata": {
        "id": "T_1A81Qcglj5"
      }
    },
    {
      "cell_type": "markdown",
      "source": [
        "[Machine Learning Resources](https://github.com/datascienceid/machine-learning-resources)"
      ],
      "metadata": {
        "id": "g3wO1qr8lEDJ"
      }
    },
    {
      "cell_type": "markdown",
      "source": [
        "# **Z-Score**\n",
        "\n",
        "---\n",
        "\n"
      ],
      "metadata": {
        "id": "SL-zmSuJd-VK"
      }
    },
    {
      "cell_type": "markdown",
      "source": [
        "**z = (X – μ) / σ**\n",
        "\n",
        "where,\n",
        "z = Z-Score,\n",
        "X = The value of the element,\n",
        "μ = The population mean, and\n",
        "σ = The population standard deviation"
      ],
      "metadata": {
        "id": "xstAM_bA5sKH"
      }
    },
    {
      "cell_type": "code",
      "source": [
        "cars_df['Z_Score'] = (cars_df['Milage/Year']-cars_df['Milage/Year'].mean())/cars_df['Milage/Year'].std()\n",
        "sns.histplot(cars_df, x = 'Z_Score', kde = True,color = 'yellow' ,edgecolor = 'black')\n",
        "sns.rugplot(cars_df, x = 'Z_Score', color = 'b')"
      ],
      "metadata": {
        "id": "jETJCBXYd8Ld",
        "colab": {
          "base_uri": "https://localhost:8080/",
          "height": 770
        },
        "outputId": "b067e3f7-1a6a-4c4f-9b8c-cb625a756bfe"
      },
      "execution_count": null,
      "outputs": [
        {
          "output_type": "execute_result",
          "data": {
            "text/plain": [
              "<Axes: xlabel='Z_Score', ylabel='Count'>"
            ]
          },
          "metadata": {},
          "execution_count": 5
        },
        {
          "output_type": "display_data",
          "data": {
            "text/plain": [
              "<Figure size 770x770 with 1 Axes>"
            ],
            "image/png": "[encoded data removed]"
          },
          "metadata": {}
        }
      ]
    },
    {
      "cell_type": "code",
      "source": [
        "#create filter containers\n",
        "\n",
        "sns.histplot(cars_df[(cars_df['Z_Score']>-2.5)&(cars_df['Z_Score']<2.5)], x = 'Z_Score', kde = True,color = 'orange' ,edgecolor = 'black')"
      ],
      "metadata": {
        "id": "ohRmk9mMoQt3",
        "colab": {
          "base_uri": "https://localhost:8080/",
          "height": 770
        },
        "outputId": "a9f455a9-7045-4e19-a713-6da22023d5fa"
      },
      "execution_count": null,
      "outputs": [
        {
          "output_type": "execute_result",
          "data": {
            "text/plain": [
              "<Axes: xlabel='Z_Score', ylabel='Count'>"
            ]
          },
          "metadata": {},
          "execution_count": 7
        },
        {
          "output_type": "display_data",
          "data": {
            "text/plain": [
              "<Figure size 770x770 with 1 Axes>"
            ],
            "image/png": "[encoded data removed]"
          },
          "metadata": {}
        }
      ]
    },
    {
      "cell_type": "markdown",
      "source": [
        "# **Quantile Filtratration**\n",
        "\n",
        "---\n",
        "\n"
      ],
      "metadata": {
        "id": "r9XoTd3jc_HL"
      }
    },
    {
      "cell_type": "code",
      "source": [
        "df.quantile([0,0.25, 0.75,1], numeric_only = True)"
      ],
      "metadata": {
        "id": "QTe7YTGfd9W4",
        "colab": {
          "base_uri": "https://localhost:8080/",
          "height": 175
        },
        "outputId": "915f03ab-ede4-441d-c040-9c906d779078"
      },
      "execution_count": null,
      "outputs": [
        {
          "output_type": "execute_result",
          "data": {
            "text/plain": [
              "          Cost     Milage    Year   Z_Score\n",
              "0.00   22900.0       0.00  1959.0 -2.077229\n",
              "0.25   69950.0  108000.00  2006.0 -0.760467\n",
              "0.75   94999.0  215713.25  2013.0  0.552798\n",
              "1.00  100000.0  687000.00  2023.0  6.298836"
            ],
            "text/html": [
              "\n",
              "  <div id=\"df-ee809720-04de-49c4-8a33-555505e7c6b3\" class=\"colab-df-container\">\n",
              "    <div>\n",
              "<style scoped>\n",
              "    .dataframe tbody tr th:only-of-type {\n",
              "        vertical-align: middle;\n",
              "    }\n",
              "\n",
              "    .dataframe tbody tr th {\n",
              "        vertical-align: top;\n",
              "    }\n",
              "\n",
              "    .dataframe thead th {\n",
              "        text-align: right;\n",
              "    }\n",
              "</style>\n",
              "<table border=\"1\" class=\"dataframe\">\n",
              "  <thead>\n",
              "    <tr style=\"text-align: right;\">\n",
              "      <th></th>\n",
              "      <th>Cost</th>\n",
              "      <th>Milage</th>\n",
              "      <th>Year</th>\n",
              "      <th>Z_Score</th>\n",
              "    </tr>\n",
              "  </thead>\n",
              "  <tbody>\n",
              "    <tr>\n",
              "      <th>0.00</th>\n",
              "      <td>22900.0</td>\n",
              "      <td>0.00</td>\n",
              "      <td>1959.0</td>\n",
              "      <td>-2.077229</td>\n",
              "    </tr>\n",
              "    <tr>\n",
              "      <th>0.25</th>\n",
              "      <td>69950.0</td>\n",
              "      <td>108000.00</td>\n",
              "      <td>2006.0</td>\n",
              "      <td>-0.760467</td>\n",
              "    </tr>\n",
              "    <tr>\n",
              "      <th>0.75</th>\n",
              "      <td>94999.0</td>\n",
              "      <td>215713.25</td>\n",
              "      <td>2013.0</td>\n",
              "      <td>0.552798</td>\n",
              "    </tr>\n",
              "    <tr>\n",
              "      <th>1.00</th>\n",
              "      <td>100000.0</td>\n",
              "      <td>687000.00</td>\n",
              "      <td>2023.0</td>\n",
              "      <td>6.298836</td>\n",
              "    </tr>\n",
              "  </tbody>\n",
              "</table>\n",
              "</div>\n",
              "    <div class=\"colab-df-buttons\">\n",
              "\n",
              "  <div class=\"colab-df-container\">\n",
              "    <button class=\"colab-df-convert\" onclick=\"convertToInteractive('df-ee809720-04de-49c4-8a33-555505e7c6b3')\"\n",
              "            title=\"Convert this dataframe to an interactive table.\"\n",
              "            style=\"display:none;\">\n",
              "\n",
              "  <svg xmlns=\"http://www.w3.org/2000/svg\" height=\"24px\" viewBox=\"0 -960 960 960\">\n",
              "    <path d=\"M120-120v-720h720v720H120Zm60-500h600v-160H180v160Zm220 220h160v-160H400v160Zm0 220h160v-160H400v160ZM180-400h160v-160H180v160Zm440 0h160v-160H620v160ZM180-180h160v-160H180v160Zm440 0h160v-160H620v160Z\"/>\n",
              "  </svg>\n",
              "    </button>\n",
              "\n",
              "  <style>\n",
              "    .colab-df-container {\n",
              "      display:flex;\n",
              "      gap: 12px;\n",
              "    }\n",
              "\n",
              "    .colab-df-convert {\n",
              "      background-color: #E8F0FE;\n",
              "      border: none;\n",
              "      border-radius: 50%;\n",
              "      cursor: pointer;\n",
              "      display: none;\n",
              "      fill: #1967D2;\n",
              "      height: 32px;\n",
              "      padding: 0 0 0 0;\n",
              "      width: 32px;\n",
              "    }\n",
              "\n",
              "    .colab-df-convert:hover {\n",
              "      background-color: #E2EBFA;\n",
              "      box-shadow: 0px 1px 2px rgba(60, 64, 67, 0.3), 0px 1px 3px 1px rgba(60, 64, 67, 0.15);\n",
              "      fill: #174EA6;\n",
              "    }\n",
              "\n",
              "    .colab-df-buttons div {\n",
              "      margin-bottom: 4px;\n",
              "    }\n",
              "\n",
              "    [theme=dark] .colab-df-convert {\n",
              "      background-color: #3B4455;\n",
              "      fill: #D2E3FC;\n",
              "    }\n",
              "\n",
              "    [theme=dark] .colab-df-convert:hover {\n",
              "      background-color: #434B5C;\n",
              "      box-shadow: 0px 1px 3px 1px rgba(0, 0, 0, 0.15);\n",
              "      filter: drop-shadow(0px 1px 2px rgba(0, 0, 0, 0.3));\n",
              "      fill: #FFFFFF;\n",
              "    }\n",
              "  </style>\n",
              "\n",
              "    <script>\n",
              "      const buttonEl =\n",
              "        document.querySelector('#df-ee809720-04de-49c4-8a33-555505e7c6b3 button.colab-df-convert');\n",
              "      buttonEl.style.display =\n",
              "        google.colab.kernel.accessAllowed ? 'block' : 'none';\n",
              "\n",
              "      async function convertToInteractive(key) {\n",
              "        const element = document.querySelector('#df-ee809720-04de-49c4-8a33-555505e7c6b3');\n",
              "        const dataTable =\n",
              "          await google.colab.kernel.invokeFunction('convertToInteractive',\n",
              "                                                    [key], {});\n",
              "        if (!dataTable) return;\n",
              "\n",
              "        const docLinkHtml = 'Like what you see? Visit the ' +\n",
              "          '<a target=\"_blank\" href=https://colab.research.google.com/notebooks/data_table.ipynb>data table notebook</a>'\n",
              "          + ' to learn more about interactive tables.';\n",
              "        element.innerHTML = '';\n",
              "        dataTable['output_type'] = 'display_data';\n",
              "        await google.colab.output.renderOutput(dataTable, element);\n",
              "        const docLink = document.createElement('div');\n",
              "        docLink.innerHTML = docLinkHtml;\n",
              "        element.appendChild(docLink);\n",
              "      }\n",
              "    </script>\n",
              "  </div>\n",
              "\n",
              "\n",
              "<div id=\"df-1ce7f963-e13f-4e32-bc2f-5c2bd45f1782\">\n",
              "  <button class=\"colab-df-quickchart\" onclick=\"quickchart('df-1ce7f963-e13f-4e32-bc2f-5c2bd45f1782')\"\n",
              "            title=\"Suggest charts\"\n",
              "            style=\"display:none;\">\n",
              "\n",
              "<svg xmlns=\"http://www.w3.org/2000/svg\" height=\"24px\"viewBox=\"0 0 24 24\"\n",
              "     width=\"24px\">\n",
              "    <g>\n",
              "        <path d=\"M19 3H5c-1.1 0-2 .9-2 2v14c0 1.1.9 2 2 2h14c1.1 0 2-.9 2-2V5c0-1.1-.9-2-2-2zM9 17H7v-7h2v7zm4 0h-2V7h2v10zm4 0h-2v-4h2v4z\"/>\n",
              "    </g>\n",
              "</svg>\n",
              "  </button>\n",
              "\n",
              "<style>\n",
              "  .colab-df-quickchart {\n",
              "      --bg-color: #E8F0FE;\n",
              "      --fill-color: #1967D2;\n",
              "      --hover-bg-color: #E2EBFA;\n",
              "      --hover-fill-color: #174EA6;\n",
              "      --disabled-fill-color: #AAA;\n",
              "      --disabled-bg-color: #DDD;\n",
              "  }\n",
              "\n",
              "  [theme=dark] .colab-df-quickchart {\n",
              "      --bg-color: #3B4455;\n",
              "      --fill-color: #D2E3FC;\n",
              "      --hover-bg-color: #434B5C;\n",
              "      --hover-fill-color: #FFFFFF;\n",
              "      --disabled-bg-color: #3B4455;\n",
              "      --disabled-fill-color: #666;\n",
              "  }\n",
              "\n",
              "  .colab-df-quickchart {\n",
              "    background-color: var(--bg-color);\n",
              "    border: none;\n",
              "    border-radius: 50%;\n",
              "    cursor: pointer;\n",
              "    display: none;\n",
              "    fill: var(--fill-color);\n",
              "    height: 32px;\n",
              "    padding: 0;\n",
              "    width: 32px;\n",
              "  }\n",
              "\n",
              "  .colab-df-quickchart:hover {\n",
              "    background-color: var(--hover-bg-color);\n",
              "    box-shadow: 0 1px 2px rgba(60, 64, 67, 0.3), 0 1px 3px 1px rgba(60, 64, 67, 0.15);\n",
              "    fill: var(--button-hover-fill-color);\n",
              "  }\n",
              "\n",
              "  .colab-df-quickchart-complete:disabled,\n",
              "  .colab-df-quickchart-complete:disabled:hover {\n",
              "    background-color: var(--disabled-bg-color);\n",
              "    fill: var(--disabled-fill-color);\n",
              "    box-shadow: none;\n",
              "  }\n",
              "\n",
              "  .colab-df-spinner {\n",
              "    border: 2px solid var(--fill-color);\n",
              "    border-color: transparent;\n",
              "    border-bottom-color: var(--fill-color);\n",
              "    animation:\n",
              "      spin 1s steps(1) infinite;\n",
              "  }\n",
              "\n",
              "  @keyframes spin {\n",
              "    0% {\n",
              "      border-color: transparent;\n",
              "      border-bottom-color: var(--fill-color);\n",
              "      border-left-color: var(--fill-color);\n",
              "    }\n",
              "    20% {\n",
              "      border-color: transparent;\n",
              "      border-left-color: var(--fill-color);\n",
              "      border-top-color: var(--fill-color);\n",
              "    }\n",
              "    30% {\n",
              "      border-color: transparent;\n",
              "      border-left-color: var(--fill-color);\n",
              "      border-top-color: var(--fill-color);\n",
              "      border-right-color: var(--fill-color);\n",
              "    }\n",
              "    40% {\n",
              "      border-color: transparent;\n",
              "      border-right-color: var(--fill-color);\n",
              "      border-top-color: var(--fill-color);\n",
              "    }\n",
              "    60% {\n",
              "      border-color: transparent;\n",
              "      border-right-color: var(--fill-color);\n",
              "    }\n",
              "    80% {\n",
              "      border-color: transparent;\n",
              "      border-right-color: var(--fill-color);\n",
              "      border-bottom-color: var(--fill-color);\n",
              "    }\n",
              "    90% {\n",
              "      border-color: transparent;\n",
              "      border-bottom-color: var(--fill-color);\n",
              "    }\n",
              "  }\n",
              "</style>\n",
              "\n",
              "  <script>\n",
              "    async function quickchart(key) {\n",
              "      const quickchartButtonEl =\n",
              "        document.querySelector('#' + key + ' button');\n",
              "      quickchartButtonEl.disabled = true;  // To prevent multiple clicks.\n",
              "      quickchartButtonEl.classList.add('colab-df-spinner');\n",
              "      try {\n",
              "        const charts = await google.colab.kernel.invokeFunction(\n",
              "            'suggestCharts', [key], {});\n",
              "      } catch (error) {\n",
              "        console.error('Error during call to suggestCharts:', error);\n",
              "      }\n",
              "      quickchartButtonEl.classList.remove('colab-df-spinner');\n",
              "      quickchartButtonEl.classList.add('colab-df-quickchart-complete');\n",
              "    }\n",
              "    (() => {\n",
              "      let quickchartButtonEl =\n",
              "        document.querySelector('#df-1ce7f963-e13f-4e32-bc2f-5c2bd45f1782 button');\n",
              "      quickchartButtonEl.style.display =\n",
              "        google.colab.kernel.accessAllowed ? 'block' : 'none';\n",
              "    })();\n",
              "  </script>\n",
              "</div>\n",
              "\n",
              "    </div>\n",
              "  </div>\n"
            ]
          },
          "metadata": {},
          "execution_count": 6
        }
      ]
    },
    {
      "cell_type": "code",
      "source": [
        "iqr = car_df"
      ],
      "metadata": {
        "id": "10YQ_SK6UaF3"
      },
      "execution_count": null,
      "outputs": []
    },
    {
      "cell_type": "markdown",
      "source": [
        "# **Standard Deviation**\n",
        "\n",
        "---\n",
        "\n"
      ],
      "metadata": {
        "id": "PMQ--RYmdzPf"
      }
    },
    {
      "cell_type": "markdown",
      "source": [
        "The standard deviation is a measure of the dispersion or spread of a dataset. It quantifies the average distance of each data point from the mean of the dataset. Mathematically, the standard deviation (σ) is calculated as the square root of the variance (σ^2), where the variance is the average of the squared differences between each data point and the mean."
      ],
      "metadata": {
        "id": "M-eutHkqx0as"
      }
    },
    {
      "cell_type": "code",
      "source": [
        "df.std(numeric_only = True).round(2)"
      ],
      "metadata": {
        "id": "apdZGDOxeCYK",
        "colab": {
          "base_uri": "https://localhost:8080/"
        },
        "outputId": "b95e7556-53dd-4f5f-a61b-e093410b9997"
      },
      "execution_count": null,
      "outputs": [
        {
          "output_type": "execute_result",
          "data": {
            "text/plain": [
              "Cost           16466.88\n",
              "Milage         82019.42\n",
              "Year               6.19\n",
              "Car_Age            6.19\n",
              "Milage/Year     5969.49\n",
              "dtype: float64"
            ]
          },
          "metadata": {},
          "execution_count": 10
        }
      ]
    },
    {
      "cell_type": "code",
      "source": [],
      "metadata": {
        "id": "8nlNt_jLmGu4"
      },
      "execution_count": null,
      "outputs": []
    },
    {
      "cell_type": "markdown",
      "source": [
        "# **Isolation Forest**"
      ],
      "metadata": {
        "id": "1480ZRDAgZZS"
      }
    },
    {
      "cell_type": "code",
      "source": [],
      "metadata": {
        "id": "1C_cXubwgg2p"
      },
      "execution_count": null,
      "outputs": []
    }
  ]
}